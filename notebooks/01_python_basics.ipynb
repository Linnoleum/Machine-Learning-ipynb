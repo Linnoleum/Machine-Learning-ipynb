{
  "cells": [
    {
      "cell_type": "markdown",
      "metadata": {
        "id": "view-in-github",
        "colab_type": "text"
      },
      "source": [
        "<a href=\"https://colab.research.google.com/github/Linnoleum/Machine-Learning-ipynb/blob/main/notebooks/01_python_basics.ipynb\" target=\"_parent\"><img src=\"https://colab.research.google.com/assets/colab-badge.svg\" alt=\"Open In Colab\"/></a>"
      ]
    },
    {
      "cell_type": "markdown",
      "id": "bf1f1633",
      "metadata": {
        "id": "bf1f1633"
      },
      "source": [
        "Notebook prepared by Mathieu Blondel and Hugo Richard"
      ]
    },
    {
      "cell_type": "markdown",
      "id": "ac3d70b1",
      "metadata": {
        "id": "ac3d70b1"
      },
      "source": [
        "# Welcome"
      ]
    },
    {
      "cell_type": "markdown",
      "id": "dba1068c",
      "metadata": {
        "id": "dba1068c"
      },
      "source": [
        "Welcome to the first practical work of the week! In this practical, we will learn about the programming language Python as well as NumPy and Matplotlib, two fundamental tools for data science and machine learning in Python."
      ]
    },
    {
      "cell_type": "markdown",
      "id": "8cc0ff5b",
      "metadata": {
        "id": "8cc0ff5b"
      },
      "source": [
        "# Notebooks"
      ]
    },
    {
      "cell_type": "markdown",
      "id": "bfcef8eb",
      "metadata": {
        "id": "bfcef8eb"
      },
      "source": [
        "This week, we will use Jupyter notebooks and Google colab as the primary way to practice machine learning. Notebooks are a great way to mix executable code with rich contents (HTML, images, equations written in LaTeX). Colab allows to run notebooks on the cloud for free without any prior installation, while leveraging the power of [GPUs](https://en.wikipedia.org/wiki/Graphics_processing_unit)."
      ]
    },
    {
      "cell_type": "markdown",
      "id": "72bdcd22",
      "metadata": {
        "id": "72bdcd22"
      },
      "source": [
        "The document that you are reading is not a static web page, but an interactive environment called a notebook, that lets you write and execute code. Notebooks consist of so-called code cells, blocks of one or more Python instructions. For example, here is a code cell that stores the result of a computation (the number of seconds in a day) in a variable and prints its value:"
      ]
    },
    {
      "cell_type": "code",
      "execution_count": 1,
      "id": "9711068c",
      "metadata": {
        "colab": {
          "base_uri": "https://localhost:8080/"
        },
        "id": "9711068c",
        "outputId": "b4a8a14a-d710-41d1-de3a-80001a5e1a70"
      },
      "outputs": [
        {
          "output_type": "execute_result",
          "data": {
            "text/plain": [
              "86400"
            ]
          },
          "metadata": {},
          "execution_count": 1
        }
      ],
      "source": [
        "seconds_in_a_day = 24 * 60 * 60\n",
        "seconds_in_a_day"
      ]
    },
    {
      "cell_type": "markdown",
      "id": "b5f1289f",
      "metadata": {
        "id": "b5f1289f"
      },
      "source": [
        "Click on the \"play\" button to execute the cell. You should be able to see the result. Alternatively, you can also execute the cell by pressing Ctrl + Enter if you are on Windows / Linux or Command + Enter if you are on a Mac."
      ]
    },
    {
      "cell_type": "markdown",
      "id": "735dd9cc",
      "metadata": {
        "id": "735dd9cc"
      },
      "source": [
        "Variables that you defined in one cell can later be used in other cells:"
      ]
    },
    {
      "cell_type": "code",
      "execution_count": 2,
      "id": "2278cc05",
      "metadata": {
        "colab": {
          "base_uri": "https://localhost:8080/"
        },
        "id": "2278cc05",
        "outputId": "75c9df0f-e444-4e88-84ba-b4c5eedf6d0d"
      },
      "outputs": [
        {
          "output_type": "execute_result",
          "data": {
            "text/plain": [
              "604800"
            ]
          },
          "metadata": {},
          "execution_count": 2
        }
      ],
      "source": [
        "seconds_in_a_week = 7 * seconds_in_a_day\n",
        "seconds_in_a_week"
      ]
    },
    {
      "cell_type": "markdown",
      "id": "059e7456",
      "metadata": {
        "id": "059e7456"
      },
      "source": [
        "Note that the order of execution is important. For instance, if we do not run the cell storing *seconds_in_a_day* beforehand, the above cell will raise an error, as it depends on this variable. To make sure that you run all the cells in the correct order, you can also click on \"Runtime\" in the top-level menu, then \"Run all\"."
      ]
    },
    {
      "cell_type": "markdown",
      "id": "1edb1d99",
      "metadata": {
        "id": "1edb1d99"
      },
      "source": [
        "**Exercise.** Add a cell below this cell: click on this cell then click on \"+ Code\". In the new cell, compute and display the number of seconds in a year by reusing the variable *seconds_in_a_day*. Run the new cell."
      ]
    },
    {
      "cell_type": "code",
      "source": [
        "seconds_in_a_year = 52 * seconds_in_a_week\n",
        "seconds_in_a_year"
      ],
      "metadata": {
        "colab": {
          "base_uri": "https://localhost:8080/"
        },
        "id": "BGDKucLaJgEj",
        "outputId": "550d7a29-7664-4989-b0d6-c3496f43bba0"
      },
      "id": "BGDKucLaJgEj",
      "execution_count": 3,
      "outputs": [
        {
          "output_type": "execute_result",
          "data": {
            "text/plain": [
              "31449600"
            ]
          },
          "metadata": {},
          "execution_count": 3
        }
      ]
    },
    {
      "cell_type": "markdown",
      "id": "916f4aa2",
      "metadata": {
        "id": "916f4aa2"
      },
      "source": [
        "# Python"
      ]
    },
    {
      "cell_type": "markdown",
      "id": "be50834d",
      "metadata": {
        "id": "be50834d"
      },
      "source": [
        "Python is one of the most popular programming languages for machine learning, both in academia and in industry. As such, it is essential to learn this language for anyone interested in machine learning. In this section, we will review Python basics."
      ]
    },
    {
      "cell_type": "markdown",
      "id": "382c4743",
      "metadata": {
        "id": "382c4743"
      },
      "source": [
        "## Arithmetic operations"
      ]
    },
    {
      "cell_type": "markdown",
      "id": "c39c1060",
      "metadata": {
        "id": "c39c1060"
      },
      "source": [
        "Python supports the usual arithmetic operators: + (addition), * (multiplication), / (division), ** (power), // (integer division)."
      ]
    },
    {
      "cell_type": "markdown",
      "id": "46bf6e72",
      "metadata": {
        "id": "46bf6e72"
      },
      "source": [
        "## Lists"
      ]
    },
    {
      "cell_type": "markdown",
      "id": "5bf5cf39",
      "metadata": {
        "id": "5bf5cf39"
      },
      "source": [
        "Lists are a container type for ordered sequences of elements. Lists can be initialized empty"
      ]
    },
    {
      "cell_type": "code",
      "execution_count": 4,
      "id": "d7d2e8cb",
      "metadata": {
        "id": "d7d2e8cb"
      },
      "outputs": [],
      "source": [
        "my_list = []"
      ]
    },
    {
      "cell_type": "markdown",
      "id": "1f51299b",
      "metadata": {
        "id": "1f51299b"
      },
      "source": [
        "or with some initial elements"
      ]
    },
    {
      "cell_type": "code",
      "execution_count": 5,
      "id": "c5db946b",
      "metadata": {
        "id": "c5db946b"
      },
      "outputs": [],
      "source": [
        "my_list = [1, 2, 3]"
      ]
    },
    {
      "cell_type": "markdown",
      "id": "c1964689",
      "metadata": {
        "id": "c1964689"
      },
      "source": [
        "Lists have a dynamic size and elements can be added (appended) to them"
      ]
    },
    {
      "cell_type": "code",
      "execution_count": 6,
      "id": "2b28f96c",
      "metadata": {
        "colab": {
          "base_uri": "https://localhost:8080/"
        },
        "id": "2b28f96c",
        "outputId": "41eb14ba-cd77-46b8-c875-8836d075189e"
      },
      "outputs": [
        {
          "output_type": "execute_result",
          "data": {
            "text/plain": [
              "[1, 2, 3, 4]"
            ]
          },
          "metadata": {},
          "execution_count": 6
        }
      ],
      "source": [
        "my_list.append(4)\n",
        "my_list"
      ]
    },
    {
      "cell_type": "markdown",
      "id": "0af0dd9e",
      "metadata": {
        "id": "0af0dd9e"
      },
      "source": [
        "We can access individual elements of a list (indexing starts from 0)"
      ]
    },
    {
      "cell_type": "code",
      "execution_count": 7,
      "id": "11764f7c",
      "metadata": {
        "colab": {
          "base_uri": "https://localhost:8080/"
        },
        "id": "11764f7c",
        "outputId": "58b144b8-6261-41b0-c0d6-321ba25e98f8"
      },
      "outputs": [
        {
          "output_type": "execute_result",
          "data": {
            "text/plain": [
              "3"
            ]
          },
          "metadata": {},
          "execution_count": 7
        }
      ],
      "source": [
        "my_list[2]"
      ]
    },
    {
      "cell_type": "markdown",
      "id": "f29185fb",
      "metadata": {
        "id": "f29185fb"
      },
      "source": [
        "We can access \"slices\" of a list using `my_list[i:j]` where `i` is the start of the slice (again, indexing starts from 0) and `j` the end of the slice. For instance:"
      ]
    },
    {
      "cell_type": "code",
      "execution_count": 8,
      "id": "246a7337",
      "metadata": {
        "colab": {
          "base_uri": "https://localhost:8080/"
        },
        "id": "246a7337",
        "outputId": "66c8b491-e5c1-49b1-ea5a-e609570b3b1a"
      },
      "outputs": [
        {
          "output_type": "execute_result",
          "data": {
            "text/plain": [
              "[2, 3]"
            ]
          },
          "metadata": {},
          "execution_count": 8
        }
      ],
      "source": [
        "my_list[1:3]"
      ]
    },
    {
      "cell_type": "markdown",
      "id": "1d43a71d",
      "metadata": {
        "id": "1d43a71d"
      },
      "source": [
        "Omitting the second index means that the slice should run until the end of the list"
      ]
    },
    {
      "cell_type": "code",
      "execution_count": 9,
      "id": "ef033ef3",
      "metadata": {
        "colab": {
          "base_uri": "https://localhost:8080/"
        },
        "id": "ef033ef3",
        "outputId": "e46c1e68-d911-4d98-d171-524bdbd2f363"
      },
      "outputs": [
        {
          "output_type": "execute_result",
          "data": {
            "text/plain": [
              "[2, 3, 4]"
            ]
          },
          "metadata": {},
          "execution_count": 9
        }
      ],
      "source": [
        "my_list[1:]"
      ]
    },
    {
      "cell_type": "markdown",
      "id": "185cbcab",
      "metadata": {
        "id": "185cbcab"
      },
      "source": [
        "We can check if an element is in the list using `in`"
      ]
    },
    {
      "cell_type": "code",
      "execution_count": 10,
      "id": "16ed3f46",
      "metadata": {
        "colab": {
          "base_uri": "https://localhost:8080/"
        },
        "id": "16ed3f46",
        "outputId": "98aa167d-dac3-4055-b110-22e40ae96126"
      },
      "outputs": [
        {
          "output_type": "execute_result",
          "data": {
            "text/plain": [
              "False"
            ]
          },
          "metadata": {},
          "execution_count": 10
        }
      ],
      "source": [
        "5 in my_list"
      ]
    },
    {
      "cell_type": "markdown",
      "id": "934d1247",
      "metadata": {
        "id": "934d1247"
      },
      "source": [
        "The length of a list can be obtained using the `len` function"
      ]
    },
    {
      "cell_type": "code",
      "execution_count": 11,
      "id": "2a715eb3",
      "metadata": {
        "colab": {
          "base_uri": "https://localhost:8080/"
        },
        "id": "2a715eb3",
        "outputId": "cbebad10-5c52-4186-cd11-e5c0a45fef48"
      },
      "outputs": [
        {
          "output_type": "execute_result",
          "data": {
            "text/plain": [
              "4"
            ]
          },
          "metadata": {},
          "execution_count": 11
        }
      ],
      "source": [
        "len(my_list)"
      ]
    },
    {
      "cell_type": "markdown",
      "id": "a7123894",
      "metadata": {
        "id": "a7123894"
      },
      "source": [
        "## Strings"
      ]
    },
    {
      "cell_type": "markdown",
      "id": "2bc0edce",
      "metadata": {
        "id": "2bc0edce"
      },
      "source": [
        "Strings are used to store text. They can be delimited using either single quotes or double quotes"
      ]
    },
    {
      "cell_type": "code",
      "execution_count": 12,
      "id": "7c4289c6",
      "metadata": {
        "id": "7c4289c6"
      },
      "outputs": [],
      "source": [
        "string1 = \"some text\"\n",
        "string2 = 'some other text'"
      ]
    },
    {
      "cell_type": "markdown",
      "id": "fde5086d",
      "metadata": {
        "id": "fde5086d"
      },
      "source": [
        "Strings behave similarly to lists. As such we can access individual elements in exactly the same way"
      ]
    },
    {
      "cell_type": "code",
      "execution_count": 13,
      "id": "f4b22439",
      "metadata": {
        "colab": {
          "base_uri": "https://localhost:8080/",
          "height": 35
        },
        "id": "f4b22439",
        "outputId": "bdde824e-98fc-4ad2-e14c-c44d88bc1e3e"
      },
      "outputs": [
        {
          "output_type": "execute_result",
          "data": {
            "text/plain": [
              "'e'"
            ],
            "application/vnd.google.colaboratory.intrinsic+json": {
              "type": "string"
            }
          },
          "metadata": {},
          "execution_count": 13
        }
      ],
      "source": [
        "string1[3]"
      ]
    },
    {
      "cell_type": "markdown",
      "id": "c2e2a7b2",
      "metadata": {
        "id": "c2e2a7b2"
      },
      "source": [
        "and similarly for slices"
      ]
    },
    {
      "cell_type": "code",
      "execution_count": 14,
      "id": "60327863",
      "metadata": {
        "colab": {
          "base_uri": "https://localhost:8080/",
          "height": 35
        },
        "id": "60327863",
        "outputId": "ddd5a9bb-72cd-43f0-e966-1b0aaad81a04"
      },
      "outputs": [
        {
          "output_type": "execute_result",
          "data": {
            "text/plain": [
              "'text'"
            ],
            "application/vnd.google.colaboratory.intrinsic+json": {
              "type": "string"
            }
          },
          "metadata": {},
          "execution_count": 14
        }
      ],
      "source": [
        "string1[5:]"
      ]
    },
    {
      "cell_type": "markdown",
      "id": "28a25912",
      "metadata": {
        "id": "28a25912"
      },
      "source": [
        "String concatenation is performed using the `+` operator"
      ]
    },
    {
      "cell_type": "code",
      "execution_count": 15,
      "id": "32ee382d",
      "metadata": {
        "colab": {
          "base_uri": "https://localhost:8080/",
          "height": 35
        },
        "id": "32ee382d",
        "outputId": "af4066e3-8504-419a-ac61-f2b1d2dc4d4f"
      },
      "outputs": [
        {
          "output_type": "execute_result",
          "data": {
            "text/plain": [
              "'some text some other text'"
            ],
            "application/vnd.google.colaboratory.intrinsic+json": {
              "type": "string"
            }
          },
          "metadata": {},
          "execution_count": 15
        }
      ],
      "source": [
        "string1 + \" \" + string2"
      ]
    },
    {
      "cell_type": "markdown",
      "id": "e0614d66",
      "metadata": {
        "id": "e0614d66"
      },
      "source": [
        "## Conditionals"
      ]
    },
    {
      "cell_type": "markdown",
      "id": "9019264a",
      "metadata": {
        "id": "9019264a"
      },
      "source": [
        "As their name indicates, conditionals are a way to execute code depending on whether a condition is True or False. As in other languages, Python supports `if` and `else` but `else if` is contracted into `elif`, as the example below demonstrates."
      ]
    },
    {
      "cell_type": "code",
      "execution_count": 16,
      "id": "955a0f65",
      "metadata": {
        "colab": {
          "base_uri": "https://localhost:8080/"
        },
        "id": "955a0f65",
        "outputId": "7ea71567-fb04-4efa-8c06-722eb8e28282"
      },
      "outputs": [
        {
          "output_type": "stream",
          "name": "stdout",
          "text": [
            "positive\n"
          ]
        }
      ],
      "source": [
        "my_variable = 5\n",
        "if my_variable < 0:\n",
        "  print(\"negative\")\n",
        "elif my_variable == 0:\n",
        "  print(\"null\")\n",
        "else: # my_variable > 0\n",
        "  print(\"positive\")"
      ]
    },
    {
      "cell_type": "markdown",
      "id": "851f87ec",
      "metadata": {
        "id": "851f87ec"
      },
      "source": [
        "Notice the use of `print` to display messages. It also works to display the value of variables. In any case, the last line of a cell is always printed"
      ]
    },
    {
      "cell_type": "code",
      "execution_count": 17,
      "id": "0f9a3c85",
      "metadata": {
        "lines_to_next_cell": 2,
        "colab": {
          "base_uri": "https://localhost:8080/"
        },
        "id": "0f9a3c85",
        "outputId": "2a7a3778-2b0b-4c15-d02a-2473805a6be7"
      },
      "outputs": [
        {
          "output_type": "stream",
          "name": "stdout",
          "text": [
            "5\n"
          ]
        },
        {
          "output_type": "execute_result",
          "data": {
            "text/plain": [
              "5"
            ]
          },
          "metadata": {},
          "execution_count": 17
        }
      ],
      "source": [
        "my_variable = 5\n",
        "print(my_variable)\n",
        "my_variable # This behaves as print(my_variable)"
      ]
    },
    {
      "cell_type": "code",
      "execution_count": 19,
      "id": "b507b937",
      "metadata": {
        "colab": {
          "base_uri": "https://localhost:8080/"
        },
        "id": "b507b937",
        "outputId": "04cd71ac-db84-4528-a779-214d9a2a8396"
      },
      "outputs": [
        {
          "output_type": "stream",
          "name": "stdout",
          "text": [
            "5\n"
          ]
        }
      ],
      "source": [
        "my_variable = 5\n",
        "my_variable # This does not behaves as print(my_variable) (since it is not the last line)\n",
        "print(my_variable)"
      ]
    },
    {
      "cell_type": "markdown",
      "id": "a749d743",
      "metadata": {
        "id": "a749d743"
      },
      "source": [
        "Notice the two spaces before `print` in the snippet with the if, elif, else statements. These spaces are called indentation and they are important as they tell python when the condition starts and stops. Run the following examples and check that you fully understand the output."
      ]
    },
    {
      "cell_type": "code",
      "execution_count": 20,
      "id": "a7f844e6",
      "metadata": {
        "colab": {
          "base_uri": "https://localhost:8080/"
        },
        "id": "a7f844e6",
        "outputId": "f1c0c6f0-b0fd-480e-ebc4-c576bac59da6"
      },
      "outputs": [
        {
          "output_type": "stream",
          "name": "stdout",
          "text": [
            "Instruction bla\n",
            "Instruction bli\n",
            "Instruction blu\n"
          ]
        }
      ],
      "source": [
        "my_variable = 5\n",
        "if my_variable > 0:\n",
        "  print(\"Instruction bla\")\n",
        "  print(\"Instruction bli\")\n",
        "  print(\"Instruction blu\")"
      ]
    },
    {
      "cell_type": "code",
      "execution_count": 21,
      "id": "7b623e03",
      "metadata": {
        "id": "7b623e03"
      },
      "outputs": [],
      "source": [
        "my_variable = 5\n",
        "if my_variable < 0:\n",
        "  print(\"Instruction bla\")\n",
        "  print(\"Instruction bli\")\n",
        "  print(\"Instruction blu\")"
      ]
    },
    {
      "cell_type": "code",
      "execution_count": 22,
      "id": "79b74fce",
      "metadata": {
        "colab": {
          "base_uri": "https://localhost:8080/"
        },
        "id": "79b74fce",
        "outputId": "ed191691-1684-46a7-98bc-cbe0d9602961"
      },
      "outputs": [
        {
          "output_type": "stream",
          "name": "stdout",
          "text": [
            "Instruction bli\n",
            "Instruction blu\n"
          ]
        }
      ],
      "source": [
        "my_variable = 5\n",
        "if my_variable < 0:\n",
        "  print(\"Instruction bla\")\n",
        "print(\"Instruction bli\")\n",
        "print(\"Instruction blu\")"
      ]
    },
    {
      "cell_type": "markdown",
      "id": "2b247848",
      "metadata": {
        "id": "2b247848"
      },
      "source": [
        "An incorrect indentation will produce an error. What is wrong with the following code ?"
      ]
    },
    {
      "cell_type": "code",
      "execution_count": 24,
      "id": "13d2d357",
      "metadata": {
        "id": "13d2d357"
      },
      "outputs": [],
      "source": [
        "my_variable = 5\n",
        "if my_variable < 0:\n",
        "  print(\"Instruction bla\")\n",
        "  print(\"Instruction bli\")\n",
        "  print(\"Instruction blu\")"
      ]
    },
    {
      "cell_type": "markdown",
      "id": "a9e298b4",
      "metadata": {
        "id": "a9e298b4"
      },
      "source": [
        "Here `<` and `>` are the strict `less` and `greater than` operators, while `==` is the equality operator (not to be confused with `=`, the variable assignment operator). The operators `<=` and `>=` can be used for less (resp. greater) than or equal comparisons."
      ]
    },
    {
      "cell_type": "markdown",
      "id": "12d40ce0",
      "metadata": {
        "id": "12d40ce0"
      },
      "source": [
        "Here, we use 2-space indentation but many programmers also use 4-space indentation. Any one is fine as long as you are consistent throughout your code."
      ]
    },
    {
      "cell_type": "markdown",
      "id": "13dc6f01",
      "metadata": {
        "id": "13dc6f01"
      },
      "source": [
        "## Loops"
      ]
    },
    {
      "cell_type": "markdown",
      "id": "84f4e630",
      "metadata": {
        "id": "84f4e630"
      },
      "source": [
        "Loops are a way to execute a block of code multiple times. There are two main types of loops: while loops and for loops. Here as well, indentation is used to tell python where the loop start and stops."
      ]
    },
    {
      "cell_type": "markdown",
      "id": "88bf0f68",
      "metadata": {
        "id": "88bf0f68"
      },
      "source": [
        "While loop"
      ]
    },
    {
      "cell_type": "code",
      "execution_count": 25,
      "id": "79b66766",
      "metadata": {
        "colab": {
          "base_uri": "https://localhost:8080/"
        },
        "id": "79b66766",
        "outputId": "c0cccb1d-9acf-42d4-e0a4-e62f7a9e55f3"
      },
      "outputs": [
        {
          "output_type": "stream",
          "name": "stdout",
          "text": [
            "1\n",
            "2\n",
            "3\n",
            "4\n"
          ]
        }
      ],
      "source": [
        "i = 0\n",
        "while i < len(my_list):\n",
        "  print(my_list[i])\n",
        "  i += 1 # equivalent to i = i + 1"
      ]
    },
    {
      "cell_type": "markdown",
      "id": "55f0ba71",
      "metadata": {
        "id": "55f0ba71"
      },
      "source": [
        "For loop"
      ]
    },
    {
      "cell_type": "code",
      "execution_count": 26,
      "id": "ac91a56c",
      "metadata": {
        "colab": {
          "base_uri": "https://localhost:8080/"
        },
        "id": "ac91a56c",
        "outputId": "946a6372-5072-4bb7-e90c-f4235bcaf472"
      },
      "outputs": [
        {
          "output_type": "stream",
          "name": "stdout",
          "text": [
            "1\n",
            "2\n",
            "3\n",
            "4\n"
          ]
        }
      ],
      "source": [
        "for i in range(len(my_list)):\n",
        "  print(my_list[i])"
      ]
    },
    {
      "cell_type": "markdown",
      "id": "01b5bbf5",
      "metadata": {
        "id": "01b5bbf5"
      },
      "source": [
        "If the goal is simply to iterate over a list, we can do so directly as follows"
      ]
    },
    {
      "cell_type": "code",
      "execution_count": 27,
      "id": "9101e9e2",
      "metadata": {
        "colab": {
          "base_uri": "https://localhost:8080/"
        },
        "id": "9101e9e2",
        "outputId": "1ffe5262-0491-4310-f505-168296f77663"
      },
      "outputs": [
        {
          "output_type": "stream",
          "name": "stdout",
          "text": [
            "1\n",
            "2\n",
            "3\n",
            "4\n"
          ]
        }
      ],
      "source": [
        "for element in my_list:\n",
        "  print(element)"
      ]
    },
    {
      "cell_type": "markdown",
      "id": "39f3031d",
      "metadata": {
        "id": "39f3031d"
      },
      "source": [
        "## Functions"
      ]
    },
    {
      "cell_type": "markdown",
      "id": "73ce799f",
      "metadata": {
        "id": "73ce799f"
      },
      "source": [
        "To improve code readability, it is common to separate the code into different blocks, responsible for performing precise actions: functions. A function takes some inputs and process them to return some outputs."
      ]
    },
    {
      "cell_type": "code",
      "execution_count": 28,
      "id": "5b4d7a59",
      "metadata": {
        "colab": {
          "base_uri": "https://localhost:8080/"
        },
        "id": "5b4d7a59",
        "outputId": "d6ec63f7-6e0e-4bc4-ebd4-2dcd35bc222f"
      },
      "outputs": [
        {
          "output_type": "execute_result",
          "data": {
            "text/plain": [
              "36"
            ]
          },
          "metadata": {},
          "execution_count": 28
        }
      ],
      "source": [
        "def square(x):\n",
        "  return x ** 2\n",
        "\n",
        "def multiply(a, b):\n",
        "  return a * b\n",
        "\n",
        "# Functions can be composed.\n",
        "square(multiply(3, 2))"
      ]
    },
    {
      "cell_type": "markdown",
      "id": "ee0f9987",
      "metadata": {
        "id": "ee0f9987"
      },
      "source": [
        "The code inside a function should be indented. When used in combination with a loop, it is better to define the function once outside the loop."
      ]
    },
    {
      "cell_type": "markdown",
      "id": "9867d31d",
      "metadata": {
        "id": "9867d31d"
      },
      "source": [
        "The following code redefines the function several times. It is not efficient and is in addition hard to read."
      ]
    },
    {
      "cell_type": "code",
      "execution_count": 29,
      "id": "cf94b737",
      "metadata": {
        "lines_to_next_cell": 1,
        "colab": {
          "base_uri": "https://localhost:8080/"
        },
        "id": "cf94b737",
        "outputId": "6ca841e6-efeb-4c5e-b873-6f841286a978"
      },
      "outputs": [
        {
          "output_type": "stream",
          "name": "stdout",
          "text": [
            "10\n"
          ]
        }
      ],
      "source": [
        "\n",
        "a = 0\n",
        "for i in range(10):\n",
        "  def add_one(x):\n",
        "    y = x + 1\n",
        "    return y\n",
        "  a = add_one(a)\n",
        "print(a)"
      ]
    },
    {
      "cell_type": "markdown",
      "id": "eb14b72a",
      "metadata": {
        "id": "eb14b72a"
      },
      "source": [
        "Here is a better version:"
      ]
    },
    {
      "cell_type": "code",
      "execution_count": 30,
      "id": "733e218c",
      "metadata": {
        "lines_to_next_cell": 2,
        "colab": {
          "base_uri": "https://localhost:8080/"
        },
        "id": "733e218c",
        "outputId": "bfa8bafe-f7da-48cb-f636-92d7fabe2da0"
      },
      "outputs": [
        {
          "output_type": "stream",
          "name": "stdout",
          "text": [
            "10\n"
          ]
        }
      ],
      "source": [
        "\n",
        "def add_one(x):\n",
        "  y = x + 1\n",
        "  return y\n",
        "\n",
        "a = 0\n",
        "for i in range(10):\n",
        "  a = add_one(a)\n",
        "print(a)"
      ]
    },
    {
      "cell_type": "markdown",
      "id": "6972636e",
      "metadata": {
        "id": "6972636e"
      },
      "source": [
        "An interesting features of functions is that variables defined inside their definition cannot be accessed from outside.\n",
        "However a function can access values defined outside its scope (although it is not a good practice to do so.\n",
        "Check that you understand the behavior of the following examples."
      ]
    },
    {
      "cell_type": "code",
      "execution_count": 32,
      "id": "04c79dcf",
      "metadata": {
        "lines_to_next_cell": 2,
        "colab": {
          "base_uri": "https://localhost:8080/"
        },
        "id": "04c79dcf",
        "outputId": "f69ce1d1-ff06-499b-8c33-35330cc14281"
      },
      "outputs": [
        {
          "output_type": "stream",
          "name": "stdout",
          "text": [
            "3\n",
            "5\n",
            "10\n"
          ]
        }
      ],
      "source": [
        "# Local variables cannot be accessed from the outside\n",
        "c = 5\n",
        "a = 3\n",
        "\n",
        "def my_function():\n",
        "  a = 4\n",
        "  b = 6\n",
        "  c = a + b\n",
        "  return c\n",
        "\n",
        "print(a)\n",
        "print(c)\n",
        "print(my_function())"
      ]
    },
    {
      "cell_type": "code",
      "execution_count": 33,
      "id": "0acaf1bb",
      "metadata": {
        "lines_to_next_cell": 2,
        "colab": {
          "base_uri": "https://localhost:8080/"
        },
        "id": "0acaf1bb",
        "outputId": "95ed722e-28d2-4cf0-d0f6-ecdc85a897ab"
      },
      "outputs": [
        {
          "output_type": "stream",
          "name": "stdout",
          "text": [
            "5\n",
            "3\n",
            "11\n"
          ]
        }
      ],
      "source": [
        "# A function accessing values outside its scope\n",
        "a = 5\n",
        "c = 3\n",
        "\n",
        "def my_function():\n",
        "  b = 6\n",
        "  c = a + b\n",
        "  return c\n",
        "\n",
        "print(a)\n",
        "print(c)\n",
        "print(my_function())"
      ]
    },
    {
      "cell_type": "code",
      "execution_count": 34,
      "id": "05b9ef1a",
      "metadata": {
        "lines_to_next_cell": 2,
        "colab": {
          "base_uri": "https://localhost:8080/"
        },
        "id": "05b9ef1a",
        "outputId": "775420d9-72af-48f3-f780-e868a3afd461"
      },
      "outputs": [
        {
          "output_type": "stream",
          "name": "stdout",
          "text": [
            "5\n",
            "3\n",
            "11\n"
          ]
        }
      ],
      "source": [
        "# The better practice to avoid accessing variable outside the scope of the function.\n",
        "a = 5\n",
        "c = 3\n",
        "\n",
        "def my_function():\n",
        "  h = 5\n",
        "  b = 6\n",
        "  c = h + b\n",
        "  return c\n",
        "\n",
        "print(a)\n",
        "print(c)\n",
        "print(my_function())"
      ]
    },
    {
      "cell_type": "markdown",
      "id": "1c341210",
      "metadata": {
        "id": "1c341210"
      },
      "source": [
        "To improve code readability, it is sometimes useful to explicitly name the arguments"
      ]
    },
    {
      "cell_type": "code",
      "execution_count": 35,
      "id": "090940e4",
      "metadata": {
        "colab": {
          "base_uri": "https://localhost:8080/"
        },
        "id": "090940e4",
        "outputId": "94c422b1-1b49-482d-92ab-f9776fa47cd7"
      },
      "outputs": [
        {
          "output_type": "execute_result",
          "data": {
            "text/plain": [
              "36"
            ]
          },
          "metadata": {},
          "execution_count": 35
        }
      ],
      "source": [
        "square(multiply(a=3, b=2))"
      ]
    },
    {
      "cell_type": "markdown",
      "id": "6a18899a",
      "metadata": {
        "id": "6a18899a"
      },
      "source": [
        "## Exercises"
      ]
    },
    {
      "cell_type": "markdown",
      "id": "4bd12a55",
      "metadata": {
        "id": "4bd12a55"
      },
      "source": [
        "**Exercise 1.** Using a conditional, write the [relu](https://en.wikipedia.org/wiki/Rectifier_(neural_networks)) function defined as follows\n",
        "\n",
        "$\\text{relu}(x) = \\left\\{\n",
        "   \\begin{array}{rl}\n",
        "     x, & \\text{if }  x \\ge 0 \\\\\n",
        "     0, & \\text{otherwise }.\n",
        "   \\end{array}\\right.$"
      ]
    },
    {
      "cell_type": "code",
      "execution_count": 40,
      "id": "dd2d83de",
      "metadata": {
        "colab": {
          "base_uri": "https://localhost:8080/"
        },
        "id": "dd2d83de",
        "outputId": "b357151a-bdde-47e0-f66e-62403a490c5d"
      },
      "outputs": [
        {
          "output_type": "execute_result",
          "data": {
            "text/plain": [
              "0"
            ]
          },
          "metadata": {},
          "execution_count": 40
        }
      ],
      "source": [
        "def relu(x):\n",
        "  if x >= 0 :\n",
        "    return x\n",
        "  else :\n",
        "    return 0\n",
        "\n",
        "\n",
        "relu(-3)"
      ]
    },
    {
      "cell_type": "markdown",
      "id": "219e0206",
      "metadata": {
        "id": "219e0206"
      },
      "source": [
        "**Exercise 2.** Using a for loop, write a function that computes the [Euclidean norm](https://en.wikipedia.org/wiki/Norm_(mathematics)#Euclidean_norm) of a vector, represented as a list."
      ]
    },
    {
      "cell_type": "code",
      "execution_count": 121,
      "id": "a9627192",
      "metadata": {
        "colab": {
          "base_uri": "https://localhost:8080/"
        },
        "id": "a9627192",
        "outputId": "67318f10-3292-4e5e-9225-8a300b8861e7"
      },
      "outputs": [
        {
          "output_type": "execute_result",
          "data": {
            "text/plain": [
              "5.729746940310715"
            ]
          },
          "metadata": {},
          "execution_count": 121
        }
      ],
      "source": [
        "import math\n",
        "\n",
        "def euclidean_norm(vector):\n",
        "  norm = 0\n",
        "  for i in range (len(my_vector)):\n",
        "    norm += my_vector[i]**2\n",
        "  return math.sqrt(norm)\n",
        "\n",
        "\n",
        "my_vector = [0.5, -1.2, 3.3, 4.5]\n",
        "# The result should be roughly 5.729746940310715\n",
        "euclidean_norm(my_vector)"
      ]
    },
    {
      "cell_type": "markdown",
      "id": "f629dafe",
      "metadata": {
        "id": "f629dafe"
      },
      "source": [
        "**Exercise 3.** Using a for loop and a conditional, write a function that returns the maximum value in a vector."
      ]
    },
    {
      "cell_type": "code",
      "execution_count": 67,
      "id": "b20d14a6",
      "metadata": {
        "colab": {
          "base_uri": "https://localhost:8080/"
        },
        "id": "b20d14a6",
        "outputId": "27afefa6-79bc-4cb1-e845-031be7487837"
      },
      "outputs": [
        {
          "output_type": "execute_result",
          "data": {
            "text/plain": [
              "4.5"
            ]
          },
          "metadata": {},
          "execution_count": 67
        }
      ],
      "source": [
        "def vector_maximum(vector):\n",
        "  maxVector = 0\n",
        "  for i in range (len(my_vector)):\n",
        "    if my_vector[i] > maxVector :\n",
        "      maxVector = my_vector[i]\n",
        "  return maxVector\n",
        "\n",
        "vector_maximum(my_vector)"
      ]
    },
    {
      "cell_type": "markdown",
      "id": "2ad28418",
      "metadata": {
        "id": "2ad28418"
      },
      "source": [
        "**Bonus exercise.** if time permits, write a function that sorts a list in ascending order (from smaller to bigger) using the [bubble sort](https://en.wikipedia.org/wiki/Bubble_sort) algorithm."
      ]
    },
    {
      "cell_type": "code",
      "execution_count": null,
      "id": "efb3305b",
      "metadata": {
        "id": "efb3305b"
      },
      "outputs": [],
      "source": [
        "def bubble_sort(my_list):\n",
        "  # Write your function here\n",
        "  return\n",
        "\n",
        "my_list = [1, -3, 3, 2]\n",
        "# Should return [-3, 1, 2, 3]\n",
        "bubble_sort(my_list)"
      ]
    },
    {
      "cell_type": "markdown",
      "id": "4a00fce0",
      "metadata": {
        "id": "4a00fce0"
      },
      "source": [
        "## Going further"
      ]
    },
    {
      "cell_type": "markdown",
      "id": "8537b4ba",
      "metadata": {
        "id": "8537b4ba"
      },
      "source": [
        "Clearly, it is impossible to cover all the language features in this short introduction. To go further, we recommend the following resources:"
      ]
    },
    {
      "cell_type": "markdown",
      "id": "7cd0bee1",
      "metadata": {
        "id": "7cd0bee1"
      },
      "source": [
        "\n",
        "\n",
        "*   List of Python [tutorials](https://wiki.python.org/moin/BeginnersGuide/Programmers)\n",
        "* Four-hour [course](https://www.youtube.com/watch?v=rfscVS0vtbw) on Youtube\n",
        "\n"
      ]
    },
    {
      "cell_type": "markdown",
      "id": "8b5fedaf",
      "metadata": {
        "id": "8b5fedaf"
      },
      "source": [
        "# NumPy"
      ]
    },
    {
      "cell_type": "markdown",
      "id": "c6d94991",
      "metadata": {
        "id": "c6d94991"
      },
      "source": [
        "NumPy is a popular library for storing arrays of numbers and performing computations on them. Not only does this enable to write often more succinct code, this also makes the code faster, since most NumPy routines are implemented in C for speed."
      ]
    },
    {
      "cell_type": "markdown",
      "id": "c91950ce",
      "metadata": {
        "id": "c91950ce"
      },
      "source": [
        "To use NumPy in your program, you need to import it as follows"
      ]
    },
    {
      "cell_type": "code",
      "execution_count": 68,
      "id": "8e318fe9",
      "metadata": {
        "id": "8e318fe9"
      },
      "outputs": [],
      "source": [
        "import numpy as np"
      ]
    },
    {
      "cell_type": "markdown",
      "id": "70515124",
      "metadata": {
        "id": "70515124"
      },
      "source": [
        "## Array creation\n",
        "\n"
      ]
    },
    {
      "cell_type": "markdown",
      "id": "9cb384b1",
      "metadata": {
        "id": "9cb384b1"
      },
      "source": [
        "NumPy arrays can be created from Python lists"
      ]
    },
    {
      "cell_type": "code",
      "execution_count": 69,
      "id": "d976f7e1",
      "metadata": {
        "colab": {
          "base_uri": "https://localhost:8080/"
        },
        "id": "d976f7e1",
        "outputId": "a3c2ff88-4be8-43ad-b603-9bc8a541f7b3"
      },
      "outputs": [
        {
          "output_type": "execute_result",
          "data": {
            "text/plain": [
              "array([1, 2, 3])"
            ]
          },
          "metadata": {},
          "execution_count": 69
        }
      ],
      "source": [
        "my_array = np.array([1, 2, 3])\n",
        "my_array"
      ]
    },
    {
      "cell_type": "markdown",
      "id": "2e67bcff",
      "metadata": {
        "id": "2e67bcff"
      },
      "source": [
        "NumPy supports array of arbitrary dimension. For example, we can create two-dimensional arrays (e.g. to store a matrix) as follows"
      ]
    },
    {
      "cell_type": "code",
      "execution_count": 70,
      "id": "aa66456c",
      "metadata": {
        "colab": {
          "base_uri": "https://localhost:8080/"
        },
        "id": "aa66456c",
        "outputId": "bb9c67ca-ca1a-498b-ec98-50b78df1d790"
      },
      "outputs": [
        {
          "output_type": "execute_result",
          "data": {
            "text/plain": [
              "array([[1, 2, 3],\n",
              "       [4, 5, 6]])"
            ]
          },
          "metadata": {},
          "execution_count": 70
        }
      ],
      "source": [
        "my_2d_array = np.array([[1, 2, 3], [4, 5, 6]])\n",
        "my_2d_array"
      ]
    },
    {
      "cell_type": "markdown",
      "id": "b6cbd3e5",
      "metadata": {
        "id": "b6cbd3e5"
      },
      "source": [
        "We can access individual elements of a 2d-array using two indices"
      ]
    },
    {
      "cell_type": "code",
      "execution_count": 71,
      "id": "f3083204",
      "metadata": {
        "colab": {
          "base_uri": "https://localhost:8080/"
        },
        "id": "f3083204",
        "outputId": "09bf1c3a-606d-425d-e15a-b03784ffe469"
      },
      "outputs": [
        {
          "output_type": "execute_result",
          "data": {
            "text/plain": [
              "np.int64(6)"
            ]
          },
          "metadata": {},
          "execution_count": 71
        }
      ],
      "source": [
        "my_2d_array[1, 2]"
      ]
    },
    {
      "cell_type": "markdown",
      "id": "a64eda9a",
      "metadata": {
        "id": "a64eda9a"
      },
      "source": [
        "We can also access rows"
      ]
    },
    {
      "cell_type": "code",
      "execution_count": 72,
      "id": "a0b50fbb",
      "metadata": {
        "colab": {
          "base_uri": "https://localhost:8080/"
        },
        "id": "a0b50fbb",
        "outputId": "98e1de25-ad1f-4211-bae9-c47d50ef5cd4"
      },
      "outputs": [
        {
          "output_type": "execute_result",
          "data": {
            "text/plain": [
              "array([4, 5, 6])"
            ]
          },
          "metadata": {},
          "execution_count": 72
        }
      ],
      "source": [
        "my_2d_array[1]"
      ]
    },
    {
      "cell_type": "markdown",
      "id": "e3a696b5",
      "metadata": {
        "id": "e3a696b5"
      },
      "source": [
        "and columns"
      ]
    },
    {
      "cell_type": "code",
      "execution_count": 73,
      "id": "57a2d538",
      "metadata": {
        "colab": {
          "base_uri": "https://localhost:8080/"
        },
        "id": "57a2d538",
        "outputId": "0f4b1b9a-6d68-4cac-acc6-6647f216f39e"
      },
      "outputs": [
        {
          "output_type": "execute_result",
          "data": {
            "text/plain": [
              "array([3, 6])"
            ]
          },
          "metadata": {},
          "execution_count": 73
        }
      ],
      "source": [
        "my_2d_array[:, 2]"
      ]
    },
    {
      "cell_type": "markdown",
      "id": "27e180e1",
      "metadata": {
        "id": "27e180e1"
      },
      "source": [
        "Arrays have a `shape` attribute"
      ]
    },
    {
      "cell_type": "code",
      "execution_count": 74,
      "id": "989e1cb0",
      "metadata": {
        "colab": {
          "base_uri": "https://localhost:8080/"
        },
        "id": "989e1cb0",
        "outputId": "1b17bc6d-3dee-487d-8019-b74f4b217c98"
      },
      "outputs": [
        {
          "output_type": "stream",
          "name": "stdout",
          "text": [
            "(3,)\n",
            "(2, 3)\n"
          ]
        }
      ],
      "source": [
        "print(my_array.shape)\n",
        "print(my_2d_array.shape) # equivalent to a len()"
      ]
    },
    {
      "cell_type": "markdown",
      "id": "5fc5c6e4",
      "metadata": {
        "id": "5fc5c6e4"
      },
      "source": [
        "Contrary to Python lists, NumPy arrays must have a type and all elements of the array must have the same type."
      ]
    },
    {
      "cell_type": "code",
      "execution_count": 75,
      "id": "1462f875",
      "metadata": {
        "colab": {
          "base_uri": "https://localhost:8080/"
        },
        "id": "1462f875",
        "outputId": "229954d3-4488-4a70-af08-97a1223214b7"
      },
      "outputs": [
        {
          "output_type": "execute_result",
          "data": {
            "text/plain": [
              "dtype('int64')"
            ]
          },
          "metadata": {},
          "execution_count": 75
        }
      ],
      "source": [
        "my_array.dtype"
      ]
    },
    {
      "cell_type": "markdown",
      "id": "406b5df1",
      "metadata": {
        "id": "406b5df1"
      },
      "source": [
        "The main types are `int32` (32-bit integers), `int64` (64-bit integers), `float32` (32-bit real values) and `float64` (64-bit real values)."
      ]
    },
    {
      "cell_type": "markdown",
      "id": "b2fe2274",
      "metadata": {
        "id": "b2fe2274"
      },
      "source": [
        "The `dtype` can be specified when creating the array"
      ]
    },
    {
      "cell_type": "code",
      "execution_count": 76,
      "id": "9763e9de",
      "metadata": {
        "colab": {
          "base_uri": "https://localhost:8080/"
        },
        "id": "9763e9de",
        "outputId": "e448e79f-d350-452a-da81-fc2abf93fa7c"
      },
      "outputs": [
        {
          "output_type": "execute_result",
          "data": {
            "text/plain": [
              "dtype('float64')"
            ]
          },
          "metadata": {},
          "execution_count": 76
        }
      ],
      "source": [
        "my_array = np.array([1, 2, 3], dtype=np.float64)\n",
        "my_array.dtype"
      ]
    },
    {
      "cell_type": "markdown",
      "id": "45cc7f68",
      "metadata": {
        "id": "45cc7f68"
      },
      "source": [
        "We can create arrays of all zeros using"
      ]
    },
    {
      "cell_type": "code",
      "execution_count": 77,
      "id": "97bbde43",
      "metadata": {
        "colab": {
          "base_uri": "https://localhost:8080/"
        },
        "id": "97bbde43",
        "outputId": "54d411d1-cefa-4307-eee4-81c36bfa4630"
      },
      "outputs": [
        {
          "output_type": "execute_result",
          "data": {
            "text/plain": [
              "array([[0., 0., 0.],\n",
              "       [0., 0., 0.]])"
            ]
          },
          "metadata": {},
          "execution_count": 77
        }
      ],
      "source": [
        "zero_array = np.zeros((2, 3))\n",
        "zero_array"
      ]
    },
    {
      "cell_type": "markdown",
      "id": "573b984b",
      "metadata": {
        "id": "573b984b"
      },
      "source": [
        "and similarly for all ones using `ones` instead of `zeros`."
      ]
    },
    {
      "cell_type": "markdown",
      "id": "c8b3713e",
      "metadata": {
        "id": "c8b3713e"
      },
      "source": [
        "We can create a range of values using"
      ]
    },
    {
      "cell_type": "code",
      "execution_count": 78,
      "id": "405f2f6d",
      "metadata": {
        "colab": {
          "base_uri": "https://localhost:8080/"
        },
        "id": "405f2f6d",
        "outputId": "f3da9981-d257-4363-aa4a-d09a74840b53"
      },
      "outputs": [
        {
          "output_type": "execute_result",
          "data": {
            "text/plain": [
              "array([0, 1, 2, 3, 4])"
            ]
          },
          "metadata": {},
          "execution_count": 78
        }
      ],
      "source": [
        "np.arange(5)"
      ]
    },
    {
      "cell_type": "markdown",
      "id": "76bb54c5",
      "metadata": {
        "id": "76bb54c5"
      },
      "source": [
        "or specifying the starting point"
      ]
    },
    {
      "cell_type": "code",
      "execution_count": 79,
      "id": "ddc5d312",
      "metadata": {
        "colab": {
          "base_uri": "https://localhost:8080/"
        },
        "id": "ddc5d312",
        "outputId": "00efe3e5-c3a4-4d6d-ea7d-b789c56f1b61"
      },
      "outputs": [
        {
          "output_type": "execute_result",
          "data": {
            "text/plain": [
              "array([3, 4])"
            ]
          },
          "metadata": {},
          "execution_count": 79
        }
      ],
      "source": [
        "np.arange(3, 5)"
      ]
    },
    {
      "cell_type": "markdown",
      "id": "9c7cc01d",
      "metadata": {
        "id": "9c7cc01d"
      },
      "source": [
        "Another useful routine is `linspace` for creating linearly spaced values in an interval. For instance, to create 10 values in `[0, 1]`, we can use"
      ]
    },
    {
      "cell_type": "code",
      "execution_count": 82,
      "id": "65a73766",
      "metadata": {
        "colab": {
          "base_uri": "https://localhost:8080/"
        },
        "id": "65a73766",
        "outputId": "9e8ae8f0-b12b-4ba6-db40-eaecde3ff072"
      },
      "outputs": [
        {
          "output_type": "execute_result",
          "data": {
            "text/plain": [
              "array([0.        , 0.11111111, 0.22222222, 0.33333333, 0.44444444,\n",
              "       0.55555556, 0.66666667, 0.77777778, 0.88888889, 1.        ])"
            ]
          },
          "metadata": {},
          "execution_count": 82
        }
      ],
      "source": [
        "np.linspace(0, 1, 10)"
      ]
    },
    {
      "cell_type": "markdown",
      "id": "8513a0c2",
      "metadata": {
        "id": "8513a0c2"
      },
      "source": [
        "Another important operation is `reshape`, for changing the shape of an array"
      ]
    },
    {
      "cell_type": "code",
      "execution_count": 83,
      "id": "c5c5c281",
      "metadata": {
        "colab": {
          "base_uri": "https://localhost:8080/"
        },
        "id": "c5c5c281",
        "outputId": "c9c7c9e8-0f0d-43cb-a0df-fee09b5c6183"
      },
      "outputs": [
        {
          "output_type": "execute_result",
          "data": {
            "text/plain": [
              "array([[1, 2],\n",
              "       [3, 4],\n",
              "       [5, 6]])"
            ]
          },
          "metadata": {},
          "execution_count": 83
        }
      ],
      "source": [
        "my_array = np.array([1, 2, 3, 4, 5, 6])\n",
        "my_array.reshape(3, 2)"
      ]
    },
    {
      "cell_type": "markdown",
      "id": "c673b2a4",
      "metadata": {
        "id": "c673b2a4"
      },
      "source": [
        "Play with these operations and make sure you understand them well."
      ]
    },
    {
      "cell_type": "markdown",
      "id": "c8692bbd",
      "metadata": {
        "id": "c8692bbd"
      },
      "source": [
        "## Basic operations"
      ]
    },
    {
      "cell_type": "markdown",
      "id": "8689b960",
      "metadata": {
        "id": "8689b960"
      },
      "source": [
        "In NumPy, we express computations directly over arrays. This makes the code much more succinct."
      ]
    },
    {
      "cell_type": "markdown",
      "id": "5bb75012",
      "metadata": {
        "id": "5bb75012"
      },
      "source": [
        "Arithmetic operations can be performed directly over arrays. For instance, assuming two arrays have a compatible shape, we can add them as follows"
      ]
    },
    {
      "cell_type": "code",
      "execution_count": 84,
      "id": "521167c7",
      "metadata": {
        "colab": {
          "base_uri": "https://localhost:8080/"
        },
        "id": "521167c7",
        "outputId": "d2e672a3-204b-47c1-cdda-e5accc4893fa"
      },
      "outputs": [
        {
          "output_type": "execute_result",
          "data": {
            "text/plain": [
              "array([5, 7, 9])"
            ]
          },
          "metadata": {},
          "execution_count": 84
        }
      ],
      "source": [
        "array_a = np.array([1, 2, 3])\n",
        "array_b = np.array([4, 5, 6])\n",
        "array_a + array_b"
      ]
    },
    {
      "cell_type": "markdown",
      "id": "59a28ceb",
      "metadata": {
        "id": "59a28ceb"
      },
      "source": [
        "Compare this with the equivalent computation using a for loop"
      ]
    },
    {
      "cell_type": "code",
      "execution_count": 88,
      "id": "a2183b9c",
      "metadata": {
        "colab": {
          "base_uri": "https://localhost:8080/"
        },
        "id": "a2183b9c",
        "outputId": "32d48bbd-ff89-4200-c5bd-90c3013626c3"
      },
      "outputs": [
        {
          "output_type": "execute_result",
          "data": {
            "text/plain": [
              "array([5, 7, 9])"
            ]
          },
          "metadata": {},
          "execution_count": 88
        }
      ],
      "source": [
        "array_out = np.zeros_like(array_a)\n",
        "for i in range(len(array_a)):\n",
        "  array_out[i] = array_a[i] + array_b[i]\n",
        "array_out"
      ]
    },
    {
      "cell_type": "markdown",
      "id": "35891ffc",
      "metadata": {
        "id": "35891ffc"
      },
      "source": [
        "Not only this code is more verbose, it will also run much more slowly."
      ]
    },
    {
      "cell_type": "markdown",
      "id": "c1eb714e",
      "metadata": {
        "id": "c1eb714e"
      },
      "source": [
        "In NumPy, functions that operates on arrays in an element-wise fashion are called [universal functions](https://numpy.org/doc/stable/reference/ufuncs.html). For instance, this is the case of `np.sin`"
      ]
    },
    {
      "cell_type": "code",
      "execution_count": 128,
      "id": "e70dead4",
      "metadata": {
        "colab": {
          "base_uri": "https://localhost:8080/"
        },
        "id": "e70dead4",
        "outputId": "10953566-8f9c-4420-9c2c-1701fd5919db"
      },
      "outputs": [
        {
          "output_type": "execute_result",
          "data": {
            "text/plain": [
              "array([0.84147098, 0.90929743, 0.14112001])"
            ]
          },
          "metadata": {},
          "execution_count": 128
        }
      ],
      "source": [
        "np.sin(array_a)"
      ]
    },
    {
      "cell_type": "markdown",
      "id": "d2d28d73",
      "metadata": {
        "id": "d2d28d73"
      },
      "source": [
        "Vector inner product can be performed using `np.dot`"
      ]
    },
    {
      "cell_type": "code",
      "execution_count": 129,
      "id": "a70a4384",
      "metadata": {
        "colab": {
          "base_uri": "https://localhost:8080/"
        },
        "id": "a70a4384",
        "outputId": "7a05b3cc-a398-4903-aa22-020f3c154ebc"
      },
      "outputs": [
        {
          "output_type": "execute_result",
          "data": {
            "text/plain": [
              "np.int64(32)"
            ]
          },
          "metadata": {},
          "execution_count": 129
        }
      ],
      "source": [
        "np.dot(array_a, array_b)"
      ]
    },
    {
      "cell_type": "markdown",
      "id": "49b8be8c",
      "metadata": {
        "id": "49b8be8c"
      },
      "source": [
        "When the two arguments to `np.dot` are both 2d arrays, `np.dot` becomes matrix multiplication"
      ]
    },
    {
      "cell_type": "code",
      "execution_count": 95,
      "id": "5cb1f9fc",
      "metadata": {
        "colab": {
          "base_uri": "https://localhost:8080/"
        },
        "id": "5cb1f9fc",
        "outputId": "143c0d9c-ccea-4a9d-9858-f6702c0e26b7"
      },
      "outputs": [
        {
          "output_type": "execute_result",
          "data": {
            "text/plain": [
              "array([[1.35864734, 1.40730927, 0.73408574, 1.03751363],\n",
              "       [1.31247181, 1.43446048, 0.7122226 , 1.15875111],\n",
              "       [0.54533031, 0.64133146, 0.18726063, 0.92527297],\n",
              "       [0.98798062, 1.13387374, 0.52787649, 1.01823175],\n",
              "       [1.19586457, 1.16169753, 0.66628391, 0.67881603]])"
            ]
          },
          "metadata": {},
          "execution_count": 95
        }
      ],
      "source": [
        "array_A = np.random.rand(5, 3)\n",
        "array_B = np.random.rand(3, 4)\n",
        "np.dot(array_A, array_B)"
      ]
    },
    {
      "cell_type": "markdown",
      "id": "38a88a48",
      "metadata": {
        "id": "38a88a48"
      },
      "source": [
        "Matrix transpose can be done using `.transpose()` or `.T` for short"
      ]
    },
    {
      "cell_type": "code",
      "execution_count": 96,
      "id": "f08bf170",
      "metadata": {
        "colab": {
          "base_uri": "https://localhost:8080/"
        },
        "id": "f08bf170",
        "outputId": "fb9025a0-585f-4b08-f51a-d1002fc33b2f"
      },
      "outputs": [
        {
          "output_type": "execute_result",
          "data": {
            "text/plain": [
              "array([[0.6620343 , 0.93011939, 0.89846287, 0.94159003, 0.21333948],\n",
              "       [0.58807442, 0.37643938, 0.20188268, 0.16048054, 0.68039278],\n",
              "       [0.74864795, 0.80709279, 0.06388356, 0.63748174, 0.6407724 ]])"
            ]
          },
          "metadata": {},
          "execution_count": 96
        }
      ],
      "source": [
        "array_A.T"
      ]
    },
    {
      "cell_type": "markdown",
      "id": "1d6d1980",
      "metadata": {
        "id": "1d6d1980"
      },
      "source": [
        "## Slicing and masking"
      ]
    },
    {
      "cell_type": "markdown",
      "id": "0eb1a98c",
      "metadata": {
        "id": "0eb1a98c"
      },
      "source": [
        "Like Python lists, NumPy arrays support slicing"
      ]
    },
    {
      "cell_type": "code",
      "execution_count": 99,
      "id": "6681b274",
      "metadata": {
        "colab": {
          "base_uri": "https://localhost:8080/"
        },
        "id": "6681b274",
        "outputId": "8ec79a4d-2e2b-45b0-9c10-0b099b076e75"
      },
      "outputs": [
        {
          "output_type": "execute_result",
          "data": {
            "text/plain": [
              "array([5, 6, 7, 8, 9])"
            ]
          },
          "metadata": {},
          "execution_count": 99
        }
      ],
      "source": [
        "np.arange(10)[5:]"
      ]
    },
    {
      "cell_type": "markdown",
      "id": "dc4d7c3a",
      "metadata": {
        "id": "dc4d7c3a"
      },
      "source": [
        "We can also select only certain elements from the array"
      ]
    },
    {
      "cell_type": "code",
      "execution_count": 102,
      "id": "e862f445",
      "metadata": {
        "colab": {
          "base_uri": "https://localhost:8080/"
        },
        "id": "e862f445",
        "outputId": "884ea9df-0350-4842-bf4b-19abaefe9bdf"
      },
      "outputs": [
        {
          "output_type": "execute_result",
          "data": {
            "text/plain": [
              "array([5, 6, 7, 8, 9])"
            ]
          },
          "metadata": {},
          "execution_count": 102
        }
      ],
      "source": [
        "x = np.arange(10)\n",
        "mask = x >= 5\n",
        "x[mask]"
      ]
    },
    {
      "cell_type": "markdown",
      "id": "27d2347f",
      "metadata": {
        "id": "27d2347f"
      },
      "source": [
        "## Exercises"
      ]
    },
    {
      "cell_type": "markdown",
      "id": "8d63d419",
      "metadata": {
        "id": "8d63d419"
      },
      "source": [
        "**Exercise 1.** Create a 3d array of shape (2, 2, 2), containing 8 values. Access individual elements and slices."
      ]
    },
    {
      "cell_type": "code",
      "execution_count": 118,
      "id": "7d13c799",
      "metadata": {
        "colab": {
          "base_uri": "https://localhost:8080/"
        },
        "id": "7d13c799",
        "outputId": "c5b19250-0247-4a8f-ead3-118b2a497323"
      },
      "outputs": [
        {
          "output_type": "execute_result",
          "data": {
            "text/plain": [
              "array([[1, 3],\n",
              "       [5, 7]])"
            ]
          },
          "metadata": {},
          "execution_count": 118
        }
      ],
      "source": [
        "array_3d = np.arange (8)\n",
        "array_3d = array_3d.reshape (2,2,2)\n",
        "\n",
        "array_3d[:,:,1]"
      ]
    },
    {
      "cell_type": "markdown",
      "id": "68d47aff",
      "metadata": {
        "id": "68d47aff"
      },
      "source": [
        "**Exercise 2.** Rewrite the relu function (see Python section) using [np.maximum](https://numpy.org/doc/stable/reference/generated/numpy.maximum.html). Check that it works on both a single value and on an array of values.\n",
        "\n",
        "$\\text{relu}(x) = \\left\\{\n",
        "   \\begin{array}{rl}\n",
        "     x, & \\text{if }  x \\ge 0 \\\\\n",
        "     0, & \\text{otherwise }.\n",
        "   \\end{array}\\right.$"
      ]
    },
    {
      "cell_type": "code",
      "source": [
        "np.maximum (array_a, array_b)"
      ],
      "metadata": {
        "colab": {
          "base_uri": "https://localhost:8080/"
        },
        "id": "COSu7Va5UbPB",
        "outputId": "b6caccae-26ed-45c3-c103-a5a2fbb76e25"
      },
      "id": "COSu7Va5UbPB",
      "execution_count": 124,
      "outputs": [
        {
          "output_type": "execute_result",
          "data": {
            "text/plain": [
              "array([4, 5, 6])"
            ]
          },
          "metadata": {},
          "execution_count": 124
        }
      ]
    },
    {
      "cell_type": "code",
      "execution_count": 146,
      "id": "6f6b2c3a",
      "metadata": {
        "colab": {
          "base_uri": "https://localhost:8080/"
        },
        "id": "6f6b2c3a",
        "outputId": "0ee87b79-9eea-4c26-b019-dc0ba94b10c1"
      },
      "outputs": [
        {
          "output_type": "execute_result",
          "data": {
            "text/plain": [
              "array([1. , 0. , 2.5])"
            ]
          },
          "metadata": {},
          "execution_count": 146
        }
      ],
      "source": [
        "def relu_numpy(x):\n",
        "  y = np.maximum (x, 0)\n",
        "  return y\n",
        "\n",
        "relu_numpy(np.array([1, -3, 2.5]))"
      ]
    },
    {
      "cell_type": "markdown",
      "id": "80f0ab4a",
      "metadata": {
        "id": "80f0ab4a"
      },
      "source": [
        "**Exercise 3.** Rewrite the Euclidean norm of a vector (1d array) using NumPy (without for loop)"
      ]
    },
    {
      "cell_type": "code",
      "execution_count": 131,
      "id": "e35ef212",
      "metadata": {
        "colab": {
          "base_uri": "https://localhost:8080/"
        },
        "id": "e35ef212",
        "outputId": "aaf85214-a9aa-434a-e0d4-bdcff56deb9b"
      },
      "outputs": [
        {
          "output_type": "execute_result",
          "data": {
            "text/plain": [
              "5.729746940310715"
            ]
          },
          "metadata": {},
          "execution_count": 131
        }
      ],
      "source": [
        "import math\n",
        "def euclidean_norm_numpy(x):\n",
        "  add = np.sum (x**2)\n",
        "  return math.sqrt(add)\n",
        "\n",
        "my_vector = np.array([0.5, -1.2, 3.3, 4.5])\n",
        "euclidean_norm_numpy(my_vector)"
      ]
    },
    {
      "cell_type": "markdown",
      "id": "429275bb",
      "metadata": {
        "id": "429275bb"
      },
      "source": [
        "**Exercise 4.** Write a function that computes the Euclidean norms of a matrix (2d array) in a row-wise fashion. Hint: use the `axis` argument of [np.sum](https://numpy.org/doc/stable/reference/generated/numpy.sum.html)."
      ]
    },
    {
      "cell_type": "code",
      "execution_count": 153,
      "id": "4dd49b93",
      "metadata": {
        "colab": {
          "base_uri": "https://localhost:8080/"
        },
        "id": "4dd49b93",
        "outputId": "1542dbd2-ccba-418c-cfcb-115d23f321a1"
      },
      "outputs": [
        {
          "output_type": "execute_result",
          "data": {
            "text/plain": [
              "array([4.68401537, 4.59782557])"
            ]
          },
          "metadata": {},
          "execution_count": 153
        }
      ],
      "source": [
        "def euclidean_norm_2d(X):\n",
        "  add2 = np.sum (X**2, axis=1)\n",
        "  return np.sqrt(add2)\n",
        "\n",
        "my_matrix = np.array([[0.5, -1.2, 4.5],\n",
        "                      [-3.2, 1.9, 2.7]])\n",
        "# Should return an array of size 2.\n",
        "euclidean_norm_2d(my_matrix)"
      ]
    },
    {
      "cell_type": "markdown",
      "id": "d944930d",
      "metadata": {
        "id": "d944930d"
      },
      "source": [
        "**Exercise 5.** Compute the mean value of the features in the [iris dataset](https://scikit-learn.org/stable/modules/generated/sklearn.datasets.load_iris.html). Hint: use the `axis` argument on [np.mean](https://numpy.org/doc/stable/reference/generated/numpy.mean.html)."
      ]
    },
    {
      "cell_type": "code",
      "execution_count": 184,
      "id": "45f0eb6b",
      "metadata": {
        "colab": {
          "base_uri": "https://localhost:8080/"
        },
        "id": "45f0eb6b",
        "outputId": "af8889fb-0577-4d29-aaf8-11347e4b15e8"
      },
      "outputs": [
        {
          "output_type": "execute_result",
          "data": {
            "text/plain": [
              "array([5.84333333, 3.05733333, 3.758     , 1.19933333])"
            ]
          },
          "metadata": {},
          "execution_count": 184
        }
      ],
      "source": [
        "from sklearn.datasets import load_iris\n",
        "X, y = load_iris(return_X_y=True)\n",
        "np.mean (X, axis = 0)\n",
        "# Result should be an array of size 4."
      ]
    },
    {
      "cell_type": "markdown",
      "id": "90d2d940",
      "metadata": {
        "id": "90d2d940"
      },
      "source": [
        "## Going further"
      ]
    },
    {
      "cell_type": "markdown",
      "id": "5a5db818",
      "metadata": {
        "id": "5a5db818"
      },
      "source": [
        "* NumPy [reference](https://numpy.org/doc/stable/reference/)\n",
        "* SciPy [lectures](https://scipy-lectures.org/)\n",
        "*   One-hour [tutorial](https://www.youtube.com/watch?v=QUT1VHiLmmI) on Youtube\n",
        "\n"
      ]
    },
    {
      "cell_type": "markdown",
      "id": "75c920fb",
      "metadata": {
        "id": "75c920fb"
      },
      "source": [
        "# Matplotlib"
      ]
    },
    {
      "cell_type": "markdown",
      "id": "4e659c2c",
      "metadata": {
        "id": "4e659c2c"
      },
      "source": [
        "## Basic plots"
      ]
    },
    {
      "cell_type": "markdown",
      "id": "e0e76770",
      "metadata": {
        "id": "e0e76770"
      },
      "source": [
        "Matplotlib is a plotting library for Python."
      ]
    },
    {
      "cell_type": "markdown",
      "id": "45287b6e",
      "metadata": {
        "id": "45287b6e"
      },
      "source": [
        "We start with a rudimentary plotting example."
      ]
    },
    {
      "cell_type": "code",
      "execution_count": 157,
      "id": "d3635c0b",
      "metadata": {
        "colab": {
          "base_uri": "https://localhost:8080/",
          "height": 472
        },
        "id": "d3635c0b",
        "outputId": "852b9c4b-6f7c-4f7f-8f70-c3e0fad8ab13"
      },
      "outputs": [
        {
          "output_type": "display_data",
          "data": {
            "text/plain": [
              "<Figure size 640x480 with 1 Axes>"
            ],
            "image/png": "[encoded data removed]"
          },
          "metadata": {}
        }
      ],
      "source": [
        "from matplotlib import pyplot as plt\n",
        "\n",
        "x_values = np.linspace(-3, 3, 100)\n",
        "\n",
        "plt.figure()\n",
        "plt.plot(x_values, np.sin(x_values), label=\"Sinusoid\")\n",
        "plt.xlabel(\"x\")\n",
        "plt.ylabel(\"sin(x)\")\n",
        "plt.title(\"Matplotlib example\")\n",
        "plt.legend(loc=\"upper left\")\n",
        "plt.show()"
      ]
    },
    {
      "cell_type": "markdown",
      "id": "5ef5c3a0",
      "metadata": {
        "id": "5ef5c3a0"
      },
      "source": [
        "We continue with a rudimentary scatter plot example. This example displays samples from the [iris dataset](https://scikit-learn.org/stable/modules/generated/sklearn.datasets.load_iris.html) using the first two features. Colors indicate class membership (there are 3 classes)."
      ]
    },
    {
      "cell_type": "code",
      "execution_count": 198,
      "id": "83d6414b",
      "metadata": {
        "colab": {
          "base_uri": "https://localhost:8080/",
          "height": 433
        },
        "id": "83d6414b",
        "outputId": "baeaa9b6-ee83-4139-f6b1-b598b32edf44"
      },
      "outputs": [
        {
          "output_type": "display_data",
          "data": {
            "text/plain": [
              "<Figure size 640x480 with 1 Axes>"
            ],
            "image/png": "[encoded data removed]"
          },
          "metadata": {}
        }
      ],
      "source": [
        "from sklearn.datasets import load_iris\n",
        "X, y = load_iris(return_X_y=True)\n",
        "\n",
        "X_class0 = X[y == 0]\n",
        "X_class1 = X[y == 1]\n",
        "X_class2 = X[y == 2]\n",
        "\n",
        "plt.figure()\n",
        "plt.scatter(X_class0[:, 0], X_class0[:, 1], label=\"Class 0\", color=\"C0\")\n",
        "plt.scatter(X_class1[:, 0], X_class1[:, 1], label=\"Class 1\", color=\"C1\")\n",
        "plt.scatter(X_class2[:, 0], X_class2[:, 1], label=\"Class 2\", color=\"C2\")\n",
        "plt.show()"
      ]
    },
    {
      "cell_type": "markdown",
      "id": "7d9994fe",
      "metadata": {
        "id": "7d9994fe"
      },
      "source": [
        "We see that samples belonging to class 0 can be linearly separated from the rest using only the first two features."
      ]
    },
    {
      "cell_type": "markdown",
      "id": "f9aff5d5",
      "metadata": {
        "id": "f9aff5d5"
      },
      "source": [
        "## Exercises\n",
        "\n"
      ]
    },
    {
      "cell_type": "markdown",
      "id": "d80fefb6",
      "metadata": {
        "id": "d80fefb6"
      },
      "source": [
        "**Exercise 1.** Plot the relu and the [softplus](https://en.wikipedia.org/wiki/Rectifier_(neural_networks)#Softplus) functions on the same graph."
      ]
    },
    {
      "cell_type": "code",
      "execution_count": 191,
      "id": "01e2970f",
      "metadata": {
        "colab": {
          "base_uri": "https://localhost:8080/",
          "height": 447
        },
        "id": "01e2970f",
        "outputId": "f23bbaea-e670-4e86-bac0-d49f0a186f23"
      },
      "outputs": [
        {
          "output_type": "execute_result",
          "data": {
            "text/plain": [
              "[<matplotlib.lines.Line2D at 0x7e05dccfb4d0>]"
            ]
          },
          "metadata": {},
          "execution_count": 191
        },
        {
          "output_type": "display_data",
          "data": {
            "text/plain": [
              "<Figure size 640x480 with 1 Axes>"
            ],
            "image/png": "[encoded data removed]"
          },
          "metadata": {}
        }
      ],
      "source": [
        "x_values = np.linspace(-10, 10, 100)\n",
        "\n",
        "plt.figure()\n",
        "plt.plot(x_values, relu_numpy(x_values), label = \"relu\")\n",
        "plt.plot(x_values, np.log(1+np.exp(x_values)), label = \"softplus\")"
      ]
    },
    {
      "cell_type": "markdown",
      "id": "8d19b8c6",
      "metadata": {
        "id": "8d19b8c6"
      },
      "source": [
        "What is the main difference between the two functions?"
      ]
    },
    {
      "cell_type": "markdown",
      "id": "4ad24400",
      "metadata": {
        "id": "4ad24400"
      },
      "source": [
        "**Exercise 2.** Repeat the same scatter plot but using the [digits dataset](https://scikit-learn.org/stable/modules/generated/sklearn.datasets.load_digits.html) instead."
      ]
    },
    {
      "cell_type": "code",
      "execution_count": 197,
      "id": "6ebdf6da",
      "metadata": {
        "colab": {
          "base_uri": "https://localhost:8080/",
          "height": 430
        },
        "id": "6ebdf6da",
        "outputId": "0bc3be85-8ad6-4011-ddf1-00e69d253943"
      },
      "outputs": [
        {
          "output_type": "display_data",
          "data": {
            "text/plain": [
              "<Figure size 640x480 with 1 Axes>"
            ],
            "image/png": "[encoded data removed]"
          },
          "metadata": {}
        }
      ],
      "source": [
        "from sklearn.datasets import load_digits\n",
        "X, y = load_digits(return_X_y=True)\n",
        "\n",
        "X_class0 = X[y == 0]\n",
        "X_class1 = X[y == 1]\n",
        "X_class2 = X[y == 2]\n",
        "X_class3 = X[y == 3]\n",
        "X_class4 = X[y == 4]\n",
        "X_class5 = X[y == 5]\n",
        "X_class6 = X[y == 6]\n",
        "X_class7 = X[y == 7]\n",
        "X_class8 = X[y == 8]\n",
        "X_class9 = X[y == 9]\n",
        "\n",
        "\n",
        "\n",
        "plt.figure()\n",
        "plt.scatter(X_class0[:, 0], X_class0[:, 1], label=\"Class 0\", color=\"C0\")\n",
        "plt.scatter(X_class1[:, 0], X_class1[:, 1], label=\"Class 1\", color=\"C1\")\n",
        "plt.scatter(X_class2[:, 0], X_class2[:, 1], label=\"Class 2\", color=\"C2\")\n",
        "plt.scatter(X_class3[:, 0], X_class3[:, 1], label=\"Class 3\", color=\"C3\")\n",
        "plt.scatter(X_class4[:, 0], X_class4[:, 1], label=\"Class 4\", color=\"C4\")\n",
        "plt.scatter(X_class5[:, 0], X_class5[:, 1], label=\"Class 5\", color=\"C5\")\n",
        "plt.scatter(X_class6[:, 0], X_class6[:, 1], label=\"Class 6\", color=\"C6\")\n",
        "plt.scatter(X_class7[:, 0], X_class7[:, 1], label=\"Class 7\", color=\"C7\")\n",
        "plt.scatter(X_class8[:, 0], X_class8[:, 1], label=\"Class 8\", color=\"C8\")\n",
        "plt.scatter(X_class9[:, 0], X_class9[:, 1], label=\"Class 9\", color=\"C9\")\n",
        "\n",
        "\n",
        "plt.show()"
      ]
    },
    {
      "cell_type": "markdown",
      "id": "4aa91de1",
      "metadata": {
        "id": "4aa91de1"
      },
      "source": [
        "Are pixel values good features for classifying samples?"
      ]
    },
    {
      "cell_type": "markdown",
      "id": "ee1fa12f",
      "metadata": {
        "id": "ee1fa12f",
        "lines_to_next_cell": 2
      },
      "source": [
        "## Going further\n",
        "\n",
        "*  Official [tutorial](https://matplotlib.org/tutorials/introductory/pyplot.html)\n",
        "* [Tutorial](https://www.youtube.com/watch?v=qErBw-R2Ybk) on Youtube"
      ]
    }
  ],
  "metadata": {
    "kernelspec": {
      "display_name": "Python 3.9.13 ('venv': venv)",
      "language": "python",
      "name": "python3"
    },
    "colab": {
      "provenance": [],
      "include_colab_link": true
    }
  },
  "nbformat": 4,
  "nbformat_minor": 5
}